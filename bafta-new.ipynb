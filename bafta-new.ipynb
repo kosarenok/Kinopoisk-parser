{
 "cells": [
  {
   "cell_type": "markdown",
   "metadata": {},
   "source": [
    " Название | Год | Кассовый сбор в прокате | Лучший фильм | Лучший режиссер | Лучшая операторская работа | Лучшие визуальные эффекты | Лучший звук | Лучшая работа художника-постановщика | Лучший дизайн костюмов | Другие\n"
   ]
  },
  {
   "cell_type": "code",
   "execution_count": 1,
   "metadata": {},
   "outputs": [],
   "source": [
    "import requests\n",
    "import json\n",
    "from bs4 import BeautifulSoup\n",
    "from kinopoisk_unofficial.kinopoisk_api_client import KinopoiskApiClient\n",
    "from kinopoisk_unofficial.request.films.film_request import FilmRequest\n",
    "from kinopoisk_unofficial.request.films.box_office_request import BoxOfficeRequest\n",
    "import time\n",
    "from selenium import webdriver\n",
    "import pandas as pd"
   ]
  },
  {
   "cell_type": "code",
   "execution_count": 5,
   "metadata": {},
   "outputs": [
    {
     "name": "stderr",
     "output_type": "stream",
     "text": [
      "/var/folders/n0/z4q56_291yl18hx7bzl2b5b40000gn/T/ipykernel_36990/3263415282.py:1: DeprecationWarning: executable_path has been deprecated, please pass in a Service object\n",
      "  browser = webdriver.Chrome('/Users/kosarenok/Desktop/chromedriver_mac64/chromedriver')\n"
     ]
    }
   ],
   "source": [
    "browser = webdriver.Chrome('/Users/kosarenok/Desktop/chromedriver_mac64/chromedriver')\n",
    "\n",
    "url_api = \"https://kinopoiskapiunofficial.tech/api/v2.2/films/\"\n",
    "url = \"https://www.kinopoisk.ru/lists/movies/box-world-not-usa/?page=2\"\n",
    "\n",
    "browser.get(url)\n",
    "\n",
    "# r = requests.get(url)\n",
    "\n",
    "soup = BeautifulSoup(browser.page_source, 'lxml')"
   ]
  },
  {
   "cell_type": "code",
   "execution_count": 3,
   "metadata": {},
   "outputs": [],
   "source": [
    "links = []\n",
    "films_raw_data = []"
   ]
  },
  {
   "cell_type": "code",
   "execution_count": 6,
   "metadata": {},
   "outputs": [],
   "source": [
    "for a in soup.findAll('a', class_='base-movie-main-info_link__YwtP1'):\n",
    "    links.append(a['href'].split('/')[2])"
   ]
  },
  {
   "cell_type": "code",
   "execution_count": 13,
   "metadata": {},
   "outputs": [],
   "source": [
    "api_client = KinopoiskApiClient('9eaa3824-1c1b-41ee-850e-e6b20e2ed3fc')\n",
    "\n",
    "counter = 0\n",
    "\n",
    "for i in range(0,len(links)):\n",
    "    counter += 1\n",
    "    if counter <= 10:\n",
    "        request = FilmRequest(int(links[i]))\n",
    "        response = api_client.films.send_film_request(request)\n",
    "        films_raw_data.append(response)\n",
    "    else:\n",
    "        time.sleep(2)\n",
    "        counter = 0\n",
    "\n",
    "for i in range(0, len(films_raw_data)):\n",
    "    films_raw_data[i] = films_raw_data[i].film"
   ]
  },
  {
   "cell_type": "code",
   "execution_count": 14,
   "metadata": {},
   "outputs": [],
   "source": [
    "films_budget_data = []\n",
    "\n",
    "counter = 0\n",
    "\n",
    "for j in range(0,len(films_raw_data)):\n",
    "    counter += 1\n",
    "    if counter <= 10:\n",
    "        request = BoxOfficeRequest(films_raw_data[j].kinopoisk_id)\n",
    "        response = api_client.films.send_box_office_request(request)\n",
    "        film_budget = {\n",
    "            'kino_id' : films_raw_data[j].kinopoisk_id,\n",
    "            'type' : response.items[[x for x in range(len(response.items)) if response.items[x].type == 'WORLD'][0]].type,\n",
    "            'amount' : response.items[[x for x in range(len(response.items)) if response.items[x].type == 'WORLD'][0]].amount,\n",
    "            'Currency' : response.items[[x for x in range(len(response.items)) if response.items[x].type == 'WORLD'][0]].currency_code\n",
    "        }\n",
    "        films_budget_data.append(film_budget)\n",
    "    else:\n",
    "        time.sleep(2)\n",
    "        counter = 0"
   ]
  },
  {
   "cell_type": "code",
   "execution_count": 15,
   "metadata": {},
   "outputs": [],
   "source": [
    "films_award_data = []\n",
    "\n",
    "headers = {'X-API-KEY': '9eaa3824-1c1b-41ee-850e-e6b20e2ed3fc'}\n",
    "counter = 0\n",
    "\n",
    "for k in range(0,len(films_raw_data)):\n",
    "    counter += 1\n",
    "    if counter <= 10:\n",
    "        request = requests.get(f'https://kinopoiskapiunofficial.tech/api/v2.2/films/{films_raw_data[k].kinopoisk_id}/awards', headers=headers)\n",
    "        response = request.json()\n",
    "        film_awards = {\n",
    "                'kino_id' : films_raw_data[k].kinopoisk_id,\n",
    "                'name' : 'Британская академия'\n",
    "            }\n",
    "        for t in [x for x in range(len(response['items'])) if response['items'][x]['name'] == 'Британская академия']:\n",
    "            film_awards[response['items'][t]['nominationName']] = response['items'][t]['win']\n",
    "            film_awards['year'] = response['items'][t]['year']\n",
    "            films_award_data.append(film_awards)\n",
    "    else:\n",
    "        time.sleep(2)\n",
    "        counter = 0"
   ]
  },
  {
   "cell_type": "code",
   "execution_count": 16,
   "metadata": {},
   "outputs": [],
   "source": [
    "films_award_dataframe = pd.DataFrame(films_award_data)\n",
    "films_award_dataframe = films_award_dataframe.drop_duplicates()\n",
    "films_dataframe = pd.DataFrame(films_raw_data)\n",
    "films_budget_dataframe = pd.DataFrame(films_budget_data)"
   ]
  },
  {
   "cell_type": "code",
   "execution_count": 17,
   "metadata": {},
   "outputs": [],
   "source": [
    "films_budget_dataframe.rename(columns = {'kino_id':'kinopoisk_id'}, inplace=True)\n",
    "\n",
    "films_award_dataframe.rename(columns = {'kino_id':'kinopoisk_id'}, inplace=True)"
   ]
  },
  {
   "cell_type": "code",
   "execution_count": 18,
   "metadata": {},
   "outputs": [],
   "source": [
    "films_with_budget = films_dataframe.merge(films_budget_dataframe, how='outer', on='kinopoisk_id')"
   ]
  },
  {
   "cell_type": "code",
   "execution_count": 19,
   "metadata": {},
   "outputs": [],
   "source": [
    "all_films_data = films_with_budget.merge(films_award_dataframe, how='outer', on='kinopoisk_id')"
   ]
  },
  {
   "cell_type": "code",
   "execution_count": 20,
   "metadata": {},
   "outputs": [],
   "source": [
    "all_films_data.to_excel(\"Kinopoisk_bafta_parsed_data_new.xlsx\", sheet_name='raw_data')  "
   ]
  }
 ],
 "metadata": {
  "kernelspec": {
   "display_name": "Python 3",
   "language": "python",
   "name": "python3"
  },
  "language_info": {
   "codemirror_mode": {
    "name": "ipython",
    "version": 3
   },
   "file_extension": ".py",
   "mimetype": "text/x-python",
   "name": "python",
   "nbconvert_exporter": "python",
   "pygments_lexer": "ipython3",
   "version": "3.10.2"
  },
  "orig_nbformat": 4,
  "vscode": {
   "interpreter": {
    "hash": "aee8b7b246df8f9039afb4144a1f6fd8d2ca17a180786b69acc140d282b71a49"
   }
  }
 },
 "nbformat": 4,
 "nbformat_minor": 2
}
