{
 "cells": [
  {
   "cell_type": "code",
   "execution_count": 66,
   "metadata": {},
   "outputs": [],
   "source": [
    "import requests\n",
    "import json\n",
    "from bs4 import BeautifulSoup\n",
    "from kinopoisk_unofficial.kinopoisk_api_client import KinopoiskApiClient\n",
    "from kinopoisk_unofficial.request.films.film_request import FilmRequest\n",
    "from kinopoisk_unofficial.request.films.box_office_request import BoxOfficeRequest\n",
    "import time\n",
    "from selenium import webdriver\n",
    "import pandas as pd\n",
    "import re"
   ]
  },
  {
   "cell_type": "code",
   "execution_count": 93,
   "metadata": {},
   "outputs": [
    {
     "name": "stderr",
     "output_type": "stream",
     "text": [
      "/var/folders/n0/z4q56_291yl18hx7bzl2b5b40000gn/T/ipykernel_87821/4123375354.py:1: DeprecationWarning: executable_path has been deprecated, please pass in a Service object\n",
      "  browser = webdriver.Chrome('/Users/kosarenok/Desktop/chromedriver_mac64/chromedriver')\n"
     ]
    }
   ],
   "source": [
    "browser = webdriver.Chrome('/Users/kosarenok/Desktop/chromedriver_mac64/chromedriver')\n",
    "\n",
    "url_api = \"https://kinopoiskapiunofficial.tech/api/v2.2/films/\"\n",
    "\n",
    "links = []\n",
    "films_raw_data = []"
   ]
  },
  {
   "cell_type": "code",
   "execution_count": 108,
   "metadata": {},
   "outputs": [],
   "source": [
    "list_of_links_n_budget = []\n",
    "\n",
    "for year in range(2012, 2024):\n",
    "    url = f\"https://www.kinopoisk.ru/box/best_world/view_year/{year}/\"\n",
    "    browser.get(url)\n",
    "    time.sleep(2)\n",
    "    soup = BeautifulSoup(browser.page_source, 'lxml')\n",
    "    counter = 0\n",
    "\n",
    "    for a, b in zip(soup.findAll('a', class_='all'), soup.findAll('span', style=\"color: #f60; white-space: nowrap; display: block\")):\n",
    "        if counter < 25:\n",
    "            link_n_budget = {\n",
    "                \"kinopoisk_id\": a['href'].split('/')[2],\n",
    "                \"budget\": int(re.sub(r'[$\\xa0]',\"\",(b.get_text())))\n",
    "            }\n",
    "            list_of_links_n_budget.append(link_n_budget)\n",
    "            counter += 1\n",
    "        else:\n",
    "            break\n"
   ]
  },
  {
   "cell_type": "code",
   "execution_count": 44,
   "metadata": {},
   "outputs": [],
   "source": [
    "api_client = KinopoiskApiClient('505d7a7b-3062-43bf-81c2-04df36a9159e')\n",
    "\n",
    "counter = 0\n",
    "\n",
    "for i in range(0,len(links)):\n",
    "    counter += 1\n",
    "    if counter <= 10:\n",
    "        request = FilmRequest(int(links[i]))\n",
    "        response = api_client.films.send_film_request(request)\n",
    "        films_raw_data.append(response.film)\n",
    "    else:\n",
    "        time.sleep(2)\n",
    "        counter = 0"
   ]
  },
  {
   "cell_type": "code",
   "execution_count": 53,
   "metadata": {},
   "outputs": [],
   "source": [
    "films_award_data = []\n",
    "\n",
    "headers = {'X-API-KEY': '9eaa3824-1c1b-41ee-850e-e6b20e2ed3fc'}\n",
    "counter = 0\n",
    "\n",
    "for k in range(0,len(films_raw_data)):\n",
    "    counter += 1\n",
    "    if counter <= 10:\n",
    "        request = requests.get(f'https://kinopoiskapiunofficial.tech/api/v2.2/films/{films_raw_data[k].kinopoisk_id}/awards', headers=headers)\n",
    "        response = request.json()\n",
    "        film_awards = {\n",
    "                'kinopoisk_id' : films_raw_data[k].kinopoisk_id,\n",
    "                'name' : 'Оскар'\n",
    "            }\n",
    "        for t in [x for x in range(len(response['items'])) if response['items'][x]['name'] == 'Оскар']:\n",
    "            film_awards[response['items'][t]['nominationName']] = response['items'][t]['win']\n",
    "            film_awards['year'] = response['items'][t]['year']\n",
    "            films_award_data.append(film_awards)\n",
    "    else:\n",
    "        time.sleep(2)\n",
    "        counter = 0"
   ]
  },
  {
   "cell_type": "code",
   "execution_count": 95,
   "metadata": {},
   "outputs": [],
   "source": [
    "films_award_dataframe = pd.DataFrame(films_award_data)\n",
    "films_award_dataframe = films_award_dataframe.drop_duplicates()\n",
    "films_dataframe = pd.DataFrame(films_raw_data)\n",
    "films_budget_dataframe = pd.DataFrame(list_of_links_n_budget)"
   ]
  },
  {
   "cell_type": "code",
   "execution_count": 96,
   "metadata": {},
   "outputs": [],
   "source": [
    "films_budget_dataframe.rename(columns = {'link':'kinopoisk_id'}, inplace=True)\n",
    "films_budget_dataframe = films_budget_dataframe.astype({'kinopoisk_id': int})\n",
    "\n",
    "films_award_dataframe.rename(columns = {'kino_id':'kinopoisk_id'}, inplace=True)"
   ]
  },
  {
   "cell_type": "code",
   "execution_count": 102,
   "metadata": {},
   "outputs": [],
   "source": [
    "films_with_budget = films_dataframe.merge(films_budget_dataframe, how='outer', on='kinopoisk_id')"
   ]
  },
  {
   "cell_type": "code",
   "execution_count": 103,
   "metadata": {},
   "outputs": [],
   "source": [
    "all_films_data = films_with_budget.merge(films_award_dataframe, how='outer', on='kinopoisk_id')"
   ]
  },
  {
   "cell_type": "code",
   "execution_count": 104,
   "metadata": {},
   "outputs": [],
   "source": [
    "# df.sort_values(by=['col1'])\n",
    "\n",
    "all_films_data.sort_values(by=['year_x'], inplace=True)\n"
   ]
  },
  {
   "cell_type": "code",
   "execution_count": 105,
   "metadata": {},
   "outputs": [],
   "source": [
    "all_films_data.to_excel(\"Kinopoisk_parsed_data_new.xlsx\", sheet_name='raw_data')  "
   ]
  }
 ],
 "metadata": {
  "kernelspec": {
   "display_name": "Python 3",
   "language": "python",
   "name": "python3"
  },
  "language_info": {
   "codemirror_mode": {
    "name": "ipython",
    "version": 3
   },
   "file_extension": ".py",
   "mimetype": "text/x-python",
   "name": "python",
   "nbconvert_exporter": "python",
   "pygments_lexer": "ipython3",
   "version": "3.10.2"
  },
  "orig_nbformat": 4
 },
 "nbformat": 4,
 "nbformat_minor": 2
}
